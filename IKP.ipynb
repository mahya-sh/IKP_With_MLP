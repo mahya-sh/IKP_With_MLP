{
  "nbformat": 4,
  "nbformat_minor": 0,
  "metadata": {
    "colab": {
      "provenance": []
    },
    "kernelspec": {
      "name": "python3",
      "display_name": "Python 3"
    },
    "language_info": {
      "name": "python"
    }
  },
  "cells": [
    {
      "cell_type": "markdown",
      "source": [
        "##Step1: Generating Data"
      ],
      "metadata": {
        "id": "3jWWgF3OCOhD"
      }
    },
    {
      "cell_type": "code",
      "execution_count": 86,
      "metadata": {
        "colab": {
          "base_uri": "https://localhost:8080/"
        },
        "id": "9ZFmcUiRCI9f",
        "outputId": "c8295707-ae55-43ad-af54-818ba33bd584"
      },
      "outputs": [
        {
          "output_type": "stream",
          "name": "stdout",
          "text": [
            "Dataset saved to 'ikp_dataset.csv'.\n"
          ]
        }
      ],
      "source": [
        "import numpy as np\n",
        "import pandas as pd\n",
        "\n",
        "\n",
        "L1, L2, L3 = 17, 19, 23\n",
        "num_samples = 20\n",
        "\n",
        "theta1 = np.random.uniform(-np.pi, np.pi, num_samples)\n",
        "theta2 = np.random.uniform(-np.pi, np.pi, num_samples)\n",
        "theta3 = np.random.uniform(-np.pi, np.pi, num_samples)\n",
        "\n",
        "data = []\n",
        "\n",
        "for t1 in theta1:\n",
        "    for t2 in theta2:\n",
        "        for t3 in theta3:\n",
        "            x = L1 * np.cos(t1) + L2 * np.cos(t1 + t2) + L3 * np.cos(t1 + t2 + t3)\n",
        "            y = L1 * np.sin(t1) + L2 * np.sin(t1 + t2) + L3 * np.sin(t1 + t2 + t3)\n",
        "            phi = t1 + t2 + t3\n",
        "            data.append([x, y, phi, t1, t2, t3])\n",
        "            if len(data) >= 400:\n",
        "                break\n",
        "        else:\n",
        "            continue\n",
        "        break\n",
        "    else:\n",
        "        continue\n",
        "    break\n",
        "\n",
        "df = pd.DataFrame(data, columns=['x', 'y', 'phi', 'theta1', 'theta2', 'theta3'])\n",
        "\n",
        "#save in excel file\n",
        "df.to_csv('ikp_dataset.csv', index=False)\n",
        "print(\"Dataset saved to 'ikp_dataset.csv'.\")\n"
      ]
    },
    {
      "cell_type": "code",
      "source": [
        "from google.colab import files\n",
        "files.download('ikp_dataset.csv')\n",
        "\n"
      ],
      "metadata": {
        "colab": {
          "base_uri": "https://localhost:8080/",
          "height": 17
        },
        "id": "yPIYzWpHC3cT",
        "outputId": "87a9d743-8509-4036-dcdf-30fc0b35963a"
      },
      "execution_count": 87,
      "outputs": [
        {
          "output_type": "display_data",
          "data": {
            "text/plain": [
              "<IPython.core.display.Javascript object>"
            ],
            "application/javascript": [
              "\n",
              "    async function download(id, filename, size) {\n",
              "      if (!google.colab.kernel.accessAllowed) {\n",
              "        return;\n",
              "      }\n",
              "      const div = document.createElement('div');\n",
              "      const label = document.createElement('label');\n",
              "      label.textContent = `Downloading \"${filename}\": `;\n",
              "      div.appendChild(label);\n",
              "      const progress = document.createElement('progress');\n",
              "      progress.max = size;\n",
              "      div.appendChild(progress);\n",
              "      document.body.appendChild(div);\n",
              "\n",
              "      const buffers = [];\n",
              "      let downloaded = 0;\n",
              "\n",
              "      const channel = await google.colab.kernel.comms.open(id);\n",
              "      // Send a message to notify the kernel that we're ready.\n",
              "      channel.send({})\n",
              "\n",
              "      for await (const message of channel.messages) {\n",
              "        // Send a message to notify the kernel that we're ready.\n",
              "        channel.send({})\n",
              "        if (message.buffers) {\n",
              "          for (const buffer of message.buffers) {\n",
              "            buffers.push(buffer);\n",
              "            downloaded += buffer.byteLength;\n",
              "            progress.value = downloaded;\n",
              "          }\n",
              "        }\n",
              "      }\n",
              "      const blob = new Blob(buffers, {type: 'application/binary'});\n",
              "      const a = document.createElement('a');\n",
              "      a.href = window.URL.createObjectURL(blob);\n",
              "      a.download = filename;\n",
              "      div.appendChild(a);\n",
              "      a.click();\n",
              "      div.remove();\n",
              "    }\n",
              "  "
            ]
          },
          "metadata": {}
        },
        {
          "output_type": "display_data",
          "data": {
            "text/plain": [
              "<IPython.core.display.Javascript object>"
            ],
            "application/javascript": [
              "download(\"download_5d3889e4-0fc3-498a-a426-650523e1723f\", \"ikp_dataset.csv\", 45846)"
            ]
          },
          "metadata": {}
        }
      ]
    },
    {
      "cell_type": "code",
      "source": [],
      "metadata": {
        "id": "vkgm-3thCNtz"
      },
      "execution_count": 2,
      "outputs": []
    },
    {
      "cell_type": "markdown",
      "source": [
        "##Load and prepare data set"
      ],
      "metadata": {
        "id": "A_q9kdbzIL_J"
      }
    },
    {
      "cell_type": "code",
      "source": [
        "from sklearn.model_selection import train_test_split\n",
        "\n",
        "df = pd.read_csv('ikp_dataset.csv')\n",
        "\n",
        "\n",
        "X = df[['x', 'y', 'phi']].values\n",
        "Y = df[['theta1', 'theta2', 'theta3']].values\n",
        "\n",
        "X_train, X_test, Y_train, Y_test = train_test_split(X, Y, test_size=0.2, random_state=42)"
      ],
      "metadata": {
        "id": "zAIDdhF6Ch0U"
      },
      "execution_count": 88,
      "outputs": []
    },
    {
      "cell_type": "code",
      "source": [
        "import torch\n",
        "import torch.nn as nn\n",
        "import torch.optim as optim\n",
        "from torch.utils.data import DataLoader, TensorDataset\n",
        "\n",
        "\n",
        "X_train_tensor = torch.tensor(X_train, dtype=torch.float32)\n",
        "Y_train_tensor = torch.tensor(Y_train, dtype=torch.float32)\n",
        "X_test_tensor = torch.tensor(X_test, dtype=torch.float32)\n",
        "Y_test_tensor = torch.tensor(Y_test, dtype=torch.float32)\n",
        "\n",
        "# Shuffling\n",
        "train_dataset = TensorDataset(X_train_tensor, Y_train_tensor)\n",
        "train_loader = DataLoader(train_dataset, batch_size=16, shuffle=True)\n",
        "test_dataset = TensorDataset(X_test_tensor, Y_test_tensor)\n",
        "test_loader = DataLoader(test_dataset, batch_size=16, shuffle=True)\n"
      ],
      "metadata": {
        "id": "fMJn6Iv_D4DJ"
      },
      "execution_count": 89,
      "outputs": []
    },
    {
      "cell_type": "markdown",
      "source": [
        "Defined a fully connected neural network model with two hidden layers (each with 50 neurons) and an output layer with 3 neurons for the joint angles."
      ],
      "metadata": {
        "id": "5Wive-FyJD87"
      }
    },
    {
      "cell_type": "code",
      "source": [
        "class MLP(nn.Module):\n",
        "    def __init__(self):\n",
        "        super(MLP, self).__init__()\n",
        "        self.fc1 = nn.Linear(3, 50)  #input size 3 cause:(x, y, phi), output size 50\n",
        "        self.fc2 = nn.Linear(50, 50)  #input size 50, output size 50\n",
        "        self.fc3 = nn.Linear(50, 3)  #input size 50, output size 3 cause:(theta1, theta2, theta3)\n",
        "\n",
        "    def forward(self, x):\n",
        "        x = torch.relu(self.fc1(x)) #relu\n",
        "        x = torch.relu(self.fc2(x)) #relu\n",
        "        x = self.fc3(x)  #linear activation for output\n",
        "        return x\n",
        "\n",
        "model = MLP()\n"
      ],
      "metadata": {
        "id": "yzo1kObqD7aH"
      },
      "execution_count": 90,
      "outputs": []
    },
    {
      "cell_type": "code",
      "source": [
        "criterion = nn.MSELoss()\n",
        "optimizer = optim.SGD(model.parameters(), lr=0.01)\n"
      ],
      "metadata": {
        "id": "DDj3-DNsJI4q"
      },
      "execution_count": 91,
      "outputs": []
    },
    {
      "cell_type": "code",
      "source": [
        "num_epochs = 200\n",
        "train_losses = []\n",
        "\n",
        "for epoch in range(num_epochs):\n",
        "    model.train()\n",
        "    epoch_loss = 0.0\n",
        "    for inputs, targets in train_loader:\n",
        "        optimizer.zero_grad()\n",
        "        outputs = model(inputs)\n",
        "        loss = criterion(outputs, targets)\n",
        "        loss.backward()\n",
        "        optimizer.step()\n",
        "        epoch_loss += loss.item() * inputs.size(0)\n",
        "    epoch_loss /= len(train_loader.dataset)\n",
        "    train_losses.append(epoch_loss)\n",
        "\n",
        "    if (epoch+1) % 10 == 0:\n",
        "        print(f'Epoch [{epoch+1}/{num_epochs}], Loss: {epoch_loss:.4f}')\n"
      ],
      "metadata": {
        "colab": {
          "base_uri": "https://localhost:8080/"
        },
        "id": "EUPewI4jJKww",
        "outputId": "c32e366d-3430-404f-b00c-96ff539fb85e"
      },
      "execution_count": 92,
      "outputs": [
        {
          "output_type": "stream",
          "name": "stdout",
          "text": [
            "Epoch [10/200], Loss: 1.0551\n",
            "Epoch [20/200], Loss: 0.8848\n",
            "Epoch [30/200], Loss: 0.7579\n",
            "Epoch [40/200], Loss: 0.7010\n",
            "Epoch [50/200], Loss: 0.6727\n",
            "Epoch [60/200], Loss: 0.6151\n",
            "Epoch [70/200], Loss: 0.5174\n",
            "Epoch [80/200], Loss: 0.5285\n",
            "Epoch [90/200], Loss: 0.4303\n",
            "Epoch [100/200], Loss: 0.4377\n",
            "Epoch [110/200], Loss: 0.3358\n",
            "Epoch [120/200], Loss: 0.3622\n",
            "Epoch [130/200], Loss: 0.3492\n",
            "Epoch [140/200], Loss: 0.3499\n",
            "Epoch [150/200], Loss: 0.3201\n",
            "Epoch [160/200], Loss: 0.3178\n",
            "Epoch [170/200], Loss: 0.2970\n",
            "Epoch [180/200], Loss: 0.2980\n",
            "Epoch [190/200], Loss: 0.2612\n",
            "Epoch [200/200], Loss: 0.2722\n"
          ]
        }
      ]
    },
    {
      "cell_type": "code",
      "source": [
        "import matplotlib.pyplot as plt\n",
        "\n",
        "plt.figure(figsize=(10, 6))\n",
        "plt.plot(range(1, num_epochs+1), train_losses, label='Training Loss')\n",
        "plt.title('Training Loss over Epochs')\n",
        "plt.xlabel('Epoch')\n",
        "plt.ylabel('MSE Loss')\n",
        "plt.legend()\n",
        "plt.grid(True)\n",
        "plt.show()\n"
      ],
      "metadata": {
        "colab": {
          "base_uri": "https://localhost:8080/",
          "height": 564
        },
        "id": "eTy5eeZCJNry",
        "outputId": "67129885-dc52-4163-98ab-9a743f166116"
      },
      "execution_count": 50,
      "outputs": [
        {
          "output_type": "display_data",
          "data": {
            "text/plain": [
              "<Figure size 1000x600 with 1 Axes>"
            ],
            "image/png": "[encoded data removed]"
          },
          "metadata": {}
        }
      ]
    },
    {
      "cell_type": "code",
      "source": [],
      "metadata": {
        "id": "SPJcBkY2JTCt"
      },
      "execution_count": null,
      "outputs": []
    },
    {
      "cell_type": "code",
      "source": [
        "import torch\n",
        "import torch.nn as nn\n",
        "import numpy as np\n",
        "\n",
        "\n",
        "class MLP(nn.Module):\n",
        "    def __init__(self):\n",
        "        super(MLP, self).__init__()\n",
        "        self.fc1 = nn.Linear(3, 50)\n",
        "        self.fc2 = nn.Linear(50, 50)\n",
        "        self.fc3 = nn.Linear(50, 3)\n",
        "    def forward(self, x):\n",
        "        x = torch.relu(self.fc1(x))\n",
        "        x = torch.relu(self.fc2(x))\n",
        "        x = self.fc3(x)\n",
        "        return x\n",
        "\n",
        "\n",
        "def test_model(model, sample_input):\n",
        "\n",
        "    input_tensor = torch.tensor(sample_input, dtype=torch.float32)\n",
        "\n",
        "\n",
        "    model.eval()\n",
        "\n",
        "\n",
        "    with torch.no_grad():\n",
        "\n",
        "        output = model(input_tensor)\n",
        "\n",
        "    return output.numpy()\n",
        "\n",
        "if __name__ == '__main__':\n",
        "\n",
        "    model = MLP()\n",
        "    model.load_state_dict(torch.load('your_model_checkpoint.pth', map_location=torch.device('cpu')))\n",
        "\n",
        "\n",
        "    sample_input = [[35.1476, 22.8052, 1.0651]]  # values for x, y, phi when t = 0\n",
        "\n",
        "\n",
        "    predictions = test_model(model, sample_input)\n",
        "\n",
        "    print('Predicted joint angles:')\n",
        "    print(f'Theta1: {predictions[0, 0]:.4f}')\n",
        "    print(f'Theta2: {predictions[0, 1]:.4f}')\n",
        "    print(f'Theta3: {predictions[0, 2]:.4f}')\n"
      ],
      "metadata": {
        "colab": {
          "base_uri": "https://localhost:8080/"
        },
        "id": "Xb9eW_n4LhcJ",
        "outputId": "d1b2d3b7-864f-4559-cabd-43f628648b17"
      },
      "execution_count": 93,
      "outputs": [
        {
          "output_type": "stream",
          "name": "stdout",
          "text": [
            "Predicted joint angles:\n",
            "Theta1: 1.3290\n",
            "Theta2: -1.2432\n",
            "Theta3: -2.1534\n"
          ]
        }
      ]
    },
    {
      "cell_type": "code",
      "source": [
        "theta1_rad = np.pi/4 + np.pi/9 * np.sin(np.pi/5 * 0)\n",
        "theta2_rad = np.pi/6 + np.pi/18 * np.cos(np.pi/10 * 0)\n",
        "theta3_rad = -np.pi/9 - np.pi/36 * np.sin(np.pi/15 * 0)"
      ],
      "metadata": {
        "id": "w1UaRsMMLi4E"
      },
      "execution_count": 102,
      "outputs": []
    },
    {
      "cell_type": "code",
      "source": [
        "print(f\"Theta1: {theta1_rad:.4f} radians\")\n",
        "print(f\"Theta2: {theta2_rad:.4f} radians\")\n",
        "print(f\"Theta3: {theta3_rad:.4f} radians\")\n"
      ],
      "metadata": {
        "colab": {
          "base_uri": "https://localhost:8080/"
        },
        "id": "VvfuwQGUScFp",
        "outputId": "52fe95ab-8938-404b-8d8f-56d97db3aff4"
      },
      "execution_count": 103,
      "outputs": [
        {
          "output_type": "stream",
          "name": "stdout",
          "text": [
            "Theta1: 0.7854 radians\n",
            "Theta2: 0.6981 radians\n",
            "Theta3: -0.3491 radians\n"
          ]
        }
      ]
    },
    {
      "cell_type": "code",
      "source": [],
      "metadata": {
        "id": "3l48YTWnVpcb"
      },
      "execution_count": null,
      "outputs": []
    }
  ]
}